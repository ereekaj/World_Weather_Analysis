{
 "cells": [
  {
   "cell_type": "code",
   "execution_count": 1,
   "id": "ced83cbd",
   "metadata": {},
   "outputs": [],
   "source": [
    "# Import the dependencies.\n",
    "import pandas as pd\n",
    "import matplotlib.pyplot as plt\n",
    "import numpy as np"
   ]
  },
  {
   "cell_type": "code",
   "execution_count": 2,
   "id": "d7ae2bbc",
   "metadata": {},
   "outputs": [
    {
     "data": {
      "text/plain": [
       "-72"
      ]
     },
     "execution_count": 2,
     "metadata": {},
     "output_type": "execute_result"
    }
   ],
   "source": [
    "# import random module\n",
    "import random\n",
    "\n",
    "random.randint(-90, 90)"
   ]
  },
  {
   "cell_type": "code",
   "execution_count": 3,
   "id": "2ec9df05",
   "metadata": {},
   "outputs": [
    {
     "data": {
      "text/plain": [
       "0.8983510182690462"
      ]
     },
     "execution_count": 3,
     "metadata": {},
     "output_type": "execute_result"
    }
   ],
   "source": [
    "random.random()"
   ]
  },
  {
   "cell_type": "code",
   "execution_count": 4,
   "id": "f9f1ec76",
   "metadata": {},
   "outputs": [
    {
     "data": {
      "text/plain": [
       "-73.16214235853622"
      ]
     },
     "execution_count": 4,
     "metadata": {},
     "output_type": "execute_result"
    }
   ],
   "source": [
    "random_number = random.randint(-90, 89) + random.random()\n",
    "random_number"
   ]
  },
  {
   "cell_type": "code",
   "execution_count": 5,
   "id": "7ea8386e",
   "metadata": {},
   "outputs": [
    {
     "data": {
      "text/plain": [
       "[47.69267343572202,\n",
       " 19.650132616479866,\n",
       " -34.920447639048305,\n",
       " 67.54930673314819,\n",
       " 23.35751036547039,\n",
       " 32.8391979661489,\n",
       " -81.16056218702843,\n",
       " -45.32129428015975,\n",
       " 75.42740661393418,\n",
       " 24.606490552563574]"
      ]
     },
     "execution_count": 5,
     "metadata": {},
     "output_type": "execute_result"
    }
   ],
   "source": [
    "x = 1\n",
    "latitudes = []\n",
    "while x < 11:\n",
    "    random_lat = random.randint(-90, 89) + random.random()\n",
    "    latitudes.append(random_lat)\n",
    "    x += 1\n",
    "    \n",
    "latitudes"
   ]
  },
  {
   "cell_type": "code",
   "execution_count": 6,
   "id": "1374739e",
   "metadata": {},
   "outputs": [
    {
     "data": {
      "text/plain": [
       "array([ 82.91021225,  76.40672296, -87.30590304,  17.75599228,\n",
       "        76.57034893,  20.88027881,  -0.30356902, -75.25110168,\n",
       "        40.92892625,  36.53151125,  69.87766422, -18.38038943,\n",
       "        72.47823069, -17.85709934,  11.77027136, -39.05590364,\n",
       "        -5.10273171, -61.17508097,  48.38455181, -56.39678679,\n",
       "        29.94644564,  47.5702881 ,  54.05656763, -79.44973645,\n",
       "       -73.76254097,  51.10060904,  38.15676904,  78.6019456 ,\n",
       "        38.42648981,  72.31966233,  47.27441946, -51.77673537,\n",
       "        86.62494985, -29.45911765, -46.23492218,  62.4673462 ,\n",
       "        50.16121584,  59.09531035,  74.47239941, -52.76893701,\n",
       "       -41.10383931,  34.05399618,  -7.40128955,  21.2218444 ,\n",
       "        -8.74454428,  19.2726335 ,   2.18018062,  84.79444694,\n",
       "        37.40366052,  17.69171469])"
      ]
     },
     "execution_count": 6,
     "metadata": {},
     "output_type": "execute_result"
    }
   ],
   "source": [
    "np.random.uniform(-90.000, 90.000, size=50)"
   ]
  },
  {
   "cell_type": "code",
   "execution_count": 7,
   "id": "2fb8821b",
   "metadata": {},
   "outputs": [
    {
     "name": "stdout",
     "output_type": "stream",
     "text": [
      "3.92 µs ± 134 ns per loop (mean ± std. dev. of 7 runs, 100000 loops each)\n"
     ]
    }
   ],
   "source": [
    "%timeit np.random.uniform(-90.000, 90.000, size=50)"
   ]
  },
  {
   "cell_type": "code",
   "execution_count": 8,
   "id": "be805c63",
   "metadata": {},
   "outputs": [
    {
     "name": "stdout",
     "output_type": "stream",
     "text": [
      "2.5 ms ± 27.1 µs per loop (mean ± std. dev. of 7 runs, 100 loops each)\n"
     ]
    }
   ],
   "source": [
    "def latitudes(size):\n",
    "    latitudes = []\n",
    "    x = 0\n",
    "    while x < (size):\n",
    "        random_lat = random.randint(-90, 90) + random.random()\n",
    "        latitudes.append(random_lat)\n",
    "        x += 1\n",
    "    return latitudes\n",
    "# Call the function with 1500.\n",
    "%timeit latitudes(1500)"
   ]
  },
  {
   "cell_type": "code",
   "execution_count": null,
   "id": "e52af15c",
   "metadata": {},
   "outputs": [],
   "source": []
  }
 ],
 "metadata": {
  "kernelspec": {
   "display_name": "PythonData",
   "language": "python",
   "name": "pythondata"
  },
  "language_info": {
   "codemirror_mode": {
    "name": "ipython",
    "version": 3
   },
   "file_extension": ".py",
   "mimetype": "text/x-python",
   "name": "python",
   "nbconvert_exporter": "python",
   "pygments_lexer": "ipython3",
   "version": "3.7.11"
  }
 },
 "nbformat": 4,
 "nbformat_minor": 5
}
